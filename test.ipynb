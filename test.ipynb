{
 "cells": [
  {
   "cell_type": "code",
   "id": "initial_id",
   "metadata": {
    "collapsed": true,
    "ExecuteTime": {
     "end_time": "2024-12-05T04:22:10.975187Z",
     "start_time": "2024-12-05T04:22:10.883194Z"
    }
   },
   "source": "DIR_PATH = '/Users/ashfaq/Documents/chaos_star_bench_traces'",
   "outputs": [],
   "execution_count": 8
  },
  {
   "metadata": {
    "ExecuteTime": {
     "end_time": "2024-12-05T05:07:53.203151Z",
     "start_time": "2024-12-05T04:22:10.991471Z"
    }
   },
   "cell_type": "code",
   "source": [
    "import os\n",
    "import json\n",
    "\n",
    "for i in range(333):\n",
    "    filepath = os.path.join(DIR_PATH, f'jaeger_traces_{i}.json')\n",
    "    \n",
    "    with open(filepath, 'r') as f:\n",
    "        rows = json.load(f)\n",
    "    \n",
    "    for row in rows:\n",
    "        if row['spanID'] in {'de92d00bdf98369d', '41016dbec67859e1', '7c940c35c162915f', '0a8d3e8aabb8e4f1', '9acc6d072598fab7'}:\n",
    "            print(f\"{row['spanID']} FOUND!!\")\n",
    "            \n",
    "            print(row)\n",
    "            \n",
    "print('DONE!!')"
   ],
   "id": "bbac41fe52338bb8",
   "outputs": [
    {
     "name": "stdout",
     "output_type": "stream",
     "text": [
      "DONE!!\n"
     ]
    }
   ],
   "execution_count": 9
  },
  {
   "metadata": {
    "ExecuteTime": {
     "end_time": "2024-12-05T05:07:53.330647Z",
     "start_time": "2024-12-05T05:07:53.329298Z"
    }
   },
   "cell_type": "code",
   "source": "",
   "id": "6f4c98a1a49e4201",
   "outputs": [],
   "execution_count": null
  }
 ],
 "metadata": {
  "kernelspec": {
   "display_name": "Python 3",
   "language": "python",
   "name": "python3"
  },
  "language_info": {
   "codemirror_mode": {
    "name": "ipython",
    "version": 2
   },
   "file_extension": ".py",
   "mimetype": "text/x-python",
   "name": "python",
   "nbconvert_exporter": "python",
   "pygments_lexer": "ipython2",
   "version": "2.7.6"
  }
 },
 "nbformat": 4,
 "nbformat_minor": 5
}
